{
    "cells": [
        {
            "cell_type": "markdown",
            "metadata": {},
            "source": [
                "# Machine Learning for SETs\n",
                "### Berkay Dean "
            ]
        },
        {
            "cell_type": "markdown",
            "metadata": {},
            "source": [
                "## Libraries Needed"
            ]
        },
        {
            "cell_type": "code",
            "execution_count": 11,
            "metadata": {},
            "outputs": [],
            "source": [
                "## Needed Libraries and Clear Vars\n",
                "%reset -f\n",
                "import glob\n",
                "import numpy as np\n",
                "import matplotlib.pyplot as plt\n",
                "import pandas as pd\n",
                "from Machine_Learning_Functions import *\n",
                "from sklearn import preprocessing\n",
                "from sklearn.neighbors import KNeighborsClassifier\n",
                "from sklearn import metrics\n",
                "from sklearn.metrics import plot_confusion_matrix\n",
                "from sklearn.model_selection import train_test_split\n",
                "from sklearn.model_selection import GridSearchCV\n",
                "from scipy import stats\n",
                "from scipy.stats import kurtosis\n",
                "from scipy.stats import skew\n",
                "import seaborn as sb\n",
                "from ipywidgets import interactive\n",
                "import time\n",
                "from math import log\n",
                "from sklearn.decomposition import PCA"
            ]
        },
        {
            "cell_type": "markdown",
            "metadata": {},
            "source": [
                "## Function Declerations\n",
                "In the block below, a few generalized functions are declared for easier coding"
            ]
        },
        {
            "cell_type": "code",
            "execution_count": 12,
            "metadata": {},
            "outputs": [],
            "source": [
                "## This file contains a few generalized functions for making\n",
                "## running machine learning for SETs more streamlined\n",
                "\n",
                "## Funtion for getting dataframe to only node magnitude and pulse width\n",
                "def df_cleanup(df):\n",
                "    df.sort_values(by=['Node'], inplace=True)\n",
                "\n",
                "    # # Label Encoder is used to encode Nodes (strings) into values between 0 and \n",
                "    # # n_classes - 1\n",
                "    le = preprocessing.LabelEncoder()\n",
                "    le.fit(df[\"Node\"])\n",
                "    df[\"Node\"] = le.transform(df[\"Node\"])\n",
                "\n",
                "    new_df = df.drop([\"Bias 1\", \"Bias 2\", \"Number of Transients\", \"Deposited_Q\",\\\n",
                "          \"Mean\", \"Variance\", \"Standard Deviation\", \"Skew\", \"Kurtosis\"], axis=1)\n",
                "\n",
                "    new_df['Magnitude'] = new_df['Magnitude'].astype(float, errors='raise')\n",
                "    new_df['Pulse Width'] = new_df['Pulse Width'].astype(float, errors='raise')\n",
                "    \n",
                "    return new_df\n",
                "\n",
                "\n",
                "## Function for Printing Column of Coorelation Matrix\n",
                "def print_corr(dataframe, column):\n",
                "    print(dataframe.corr()[column] )\n",
                "\n",
                "\n",
                "## Function for splitting up testing and training material\n",
                "## and splitting node to be classified from the rest\n",
                "def training_split(dataframe, column, test_size, random_state):\n",
                "    \n",
                "    X = dataframe.drop(column, axis=1)\n",
                "    y = dataframe[column]\n",
                "\n",
                "    ## Convert datafram to array\n",
                "    X = X.to_numpy()\n",
                "    y = y.to_numpy()\n",
                "    # print(y)\n",
                "    # print(le.inverse_transform(y))\n",
                "\n",
                "    ## Scale values\n",
                "    X = preprocessing.scale(X)\n",
                "\n",
                "    \n",
                "\n",
                "    X_train, X_test, y_train, y_test = train_test_split(X, y,test_size=0.25, random_state=1234)\n",
                "    \n",
                "    return  (X, y, X_train, X_test, y_train, y_test)\n",
                "\n",
                "\n",
                "## kNN Model Initialization and Run\n",
                "def kNN_initialization(n_neighbors, X_train, y_train, X_test, y_test):\n",
                "    \n",
                "\n",
                "    ## Initialize knn model with arbitrary n_neighbors (k) value\n",
                "    # Maybe use unsupervised version?\n",
                "    knn = KNeighborsClassifier(n_neighbors)\n",
                "\n",
                "    ## Fit kNN\n",
                "    knn.fit(X_train, y_train)\n",
                "\n",
                "    ## predict y_test value using fitted mode\n",
                "    y_pred = knn.predict(X_test)\n",
                "    #plot_confusion_matrix(knn, X_test, y_test)\n",
                "\n",
                "    ## Print accuracy of kNN\n",
                "    print(\"Initial kNN Accuracy:\",metrics.accuracy_score(y_test, y_pred))\n",
                "    return knn\n",
                "\n",
                "\n",
                "## kNN Model Optimization using GridSearchCV\n",
                "def gridSearchCV_Optimization(largest_n_neighbors, X_train, y_train, X_test, y_test):\n",
                "    parameters = {\"n_neighbors\": range(1, largest_n_neighbors),\n",
                "        \"weights\": [\"uniform\", \"distance\"]}\n",
                "    gridsearch = GridSearchCV(KNeighborsClassifier(), parameters)\n",
                "    gridsearch.fit(X_train, y_train)\n",
                "    print(gridsearch.best_params_)\n",
                "    test_preds_grid = gridsearch.predict(X_test)\n",
                "    print(\"Optimized Accuracy:\",metrics.accuracy_score(y_test, test_preds_grid))\n",
                "    return gridsearch\n",
                "\n",
                "## Jake's IRES Function\n",
                "def vectorized_stride_v2(array, clearing_time_index, max_time, sub_window_size,\n",
                "                         stride_size):\n",
                "    start = clearing_time_index + 1 - sub_window_size - 1\n",
                "    \n",
                "    sub_windows = (\n",
                "        start + \n",
                "        np.expand_dims(np.arange(sub_window_size), 0) +\n",
                "        np.expand_dims(np.arange(max_time + 1, step=stride_size), 0) .T\n",
                "    )\n",
                "    \n",
                "    Mean = np.mean(array[sub_windows,0], +1)\n",
                "    M = np.array([Mean])\n",
                "    max_mean = np.amax(M)\n",
                "   # M_norm = np.linalg.norm(M)\n",
                "   # M = M/M_norm\n",
                "   \n",
                "    Var = np.var(array[sub_windows,0], +1)\n",
                "    V = np.array([Var])\n",
                "    max_var = np.amax(V)\n",
                "    #V_norm = np.linalg.norm(V)\n",
                "   # V = V/V_norm\n",
                "\n",
                "    St_Dev = np.std(array[sub_windows,0], +1)\n",
                "    SD = np.array([St_Dev])\n",
                "    max_std = np.amax(SD)\n",
                "   # SD_norm = np.linalg.norm(SD)\n",
                "   # SD = SD/SD_norm\n",
                "\n",
                "    Skew = skew(array[sub_windows,0], +1)\n",
                "    S = np.array([Skew])\n",
                "    max_skew = np.amax(S)\n",
                "    #S_norm = np.linalg.norm(S)\n",
                "   # S = S/S_norm\n",
                "\n",
                "    Kur =  kurtosis(array[sub_windows,0], +1)\n",
                "    K = np.array([Kur])\n",
                "    max_kur = np.amax(K)\n",
                "   # K_norm = np.linalg.norm(K)\n",
                "   # K = K/K_norm\n",
                "\n",
                "    max_stats =[max_mean, max_var, max_std, max_skew, max_kur]\n",
                "    \n",
                "    # m = np.concatenate([M, V, SD, S, K])\n",
                "    # for i in range (len(m)):\n",
                "    #     offset = [min(m[i])] * len(m[i])\n",
                "    #     m[i] = (m[i]-offset)\n",
                "    #     norm = [max(m[i])]*len(m[i])\n",
                "    #     m[i] = m[i]/norm\n",
                "    # m = m .T\n",
                "    return  max_stats\n",
                "\n",
                "def decay_const(df_exp):\n",
                "    df_exp = df_exp[['time', 'vout']]\n",
                "    vout_col = df_exp['vout']\n",
                "\n",
                "    ## Max value of vout\n",
                "    peak = vout_col.max()\n",
                "\n",
                "    ## Time at max value\n",
                "    t_peak = df_exp.loc[df_exp['vout'] == peak, 'time'].iloc[0]\n",
                "\n",
                "    ## get fwhm function \n",
                "    half_max = peak/2\n",
                "    \n",
                "\n",
                "    ## finding half max value\n",
                "    index = df_exp.index[df_exp['vout'] == peak].tolist()\n",
                "    df_exp_2 = df_exp[index[0]:len(df_exp)]\n",
                "\n",
                "    exists = df_exp_2['vout'].between(0, half_max, inclusive=True).any()\n",
                "    if exists == False:\n",
                "        tau = 0\n",
                "        return tau\n",
                "    \n",
                "    t_half_max = df_exp_2.loc[df_exp_2['vout'] <= half_max, 'time'].iloc[0]\n",
                "\n",
                "    ## decay constant calculation for half-life\n",
                "    t_diff = t_peak - t_half_max\n",
                "    tau = (-1*log(2))/t_diff\n",
                "\n",
                "    return tau\n"
            ]
        },
        {
            "cell_type": "markdown",
            "metadata": {},
            "source": [
                "## Data Extraction\n",
                "In the below subsection, data is extracted from simulation files"
            ]
        },
        {
            "cell_type": "code",
            "execution_count": 13,
            "metadata": {},
            "outputs": [],
            "source": [
                "# filenames = sorted(glob.glob('LM124_sim_SET1_ASET_QR_*.raw'))\n",
                "#filenames = sorted(glob.glob('sim_data\\LM124_sim_SET1_ASET_*'))\n",
                "#print(filenames)\n",
                "filenames = sorted(glob.glob('G:\\Shared drives\\Research Simulation Data\\\\NPN sim\\LM124_sim_SET1_ASET_*'))\n",
                "## Use numpy array instead of list because arrays are more \n",
                "## efficient for large amounts of data\n",
                "D = np.zeros((7,), dtype=int)\n",
                "for filename in filenames:\n",
                "    new_row = np.array([])\n",
                "    #print(filename)\n",
                "    with open(filename, 'rt') as myfile:\n",
                "        for line in myfile:\n",
                "            #print(line)\n",
                "            new_row = np.concatenate( (new_row, [line]))\n",
                "\n",
                "    ## get strings ready to be turned to floats\n",
                "    new_row = [s.replace(\"\\n\", \"\") for s in new_row]\n",
                "    new_row = [s.replace(\"[\", \"\") for s in new_row]\n",
                "    new_row = [s.replace(\"]\", \"\") for s in new_row]\n",
                "    new_row[5] = new_row[5].partition(\",\")[0]\n",
                "    #print(new_row)\n",
                "\n",
                "    ##make new list of floats\n",
                "    for i in range(1, len(new_row)):\n",
                "        new_row[i] = float(new_row[i])\n",
                "    #print(new_row)\n",
                "\n",
                "    ## This Block of code seperates the node and deposited charge for dataframe\n",
                "    new_row[0] = new_row[0].partition('SET2_')[2]\n",
                "    #print(new_row[0])\n",
                "    Node = new_row[0].partition(\"_\")[0]\n",
                "    #print(Node)\n",
                "    dep_charge = new_row[0].partition(\"_\")[2]\n",
                "    dep_charge = dep_charge.partition(\"m\")[0]\n",
                "    #print(dep_charge)\n",
                "    new_row = np.delete(new_row, 0, 0)\n",
                "    new_row = np.insert(new_row, 0, dep_charge)\n",
                "    new_row = np.insert(new_row, 0, Node)\n",
                "\n",
                "    # stack new rows on to other rows\n",
                "    D = np.vstack([D, new_row])\n",
                "    #print(D.shape)\n",
                "\n",
                "## Block for extracting IRES stats\n",
                "filenames = sorted(glob.glob('G:\\Shared drives\\Research Simulation Data\\\\NPN sim\\LM124_sim_SET2_*.sorted')) #change file name  \n",
                "filenames = filenames[0:400]\n",
                "max_stats = np.zeros((6,), dtype=int)\n",
                "for filename in filenames:\n",
                "    D2 = np.loadtxt(fname=filename,dtype=np.float64)\n",
                "    cols = [\"val\", \"time\", \"vout\", \"vin\"]\n",
                "    df = pd.DataFrame(D2,columns=cols)\n",
                "    # decay constant calculation\n",
                "    tau = decay_const(df)\n",
                "\n",
                "    y = df[['vout']]\n",
                "    max_val = max(df['val'])\n",
                "    max_val = int(max_val)\n",
                "    df = df.drop(columns=['vin', 'time', 'val'])\n",
                "    df = df.to_numpy()\n",
                "    new_max_stats = vectorized_stride_v2(df, 0, max_val, 5, 1)\n",
                "    \n",
                "    new_max_stats.append(tau)\n",
                "    max_stats = np.vstack([max_stats, new_max_stats])\n",
                "\n",
                "    ######################## Commented out portion is plotting IRES Spectrograms\n",
                "    #def plotting (sub_window_size = 10000, stride_size = 1000):    \n",
                "    #b = np.array(b)\n",
                "    #print(b)\n",
                "    # cols = ['MEAN', 'VARIANCE', 'STANDARD DEV', 'SKEWNESS', 'KURTOSIS']\n",
                "    # dk = pd.DataFrame(max_stats, columns=cols)\n",
                "    # #print(dk)\n",
                "    # #dk = dk.to_numpy()\n",
                "    # grid = dict(width_ratios=[30,1],height_ratios=[5,1])\n",
                "    # fig,ax = plt.subplots(2,2,gridspec_kw=grid)\n",
                "    # cm = ax[0][0].pcolor(dk.T, cmap = 'rainbow')\n",
                "    # ax[1][0].plot(y)\n",
                "    # ax[1][0].margins(x=0)\n",
                "    # ax[1][1].axis('off')\n",
                "    # ax[0][0].set_yticks(range(len(dk.columns)))\n",
                "    # ax[0][0].set_yticklabels(dk.columns)\n",
                "    # ax[0][0].set_title(filename)\n",
                "    # #plt.xticks(range(len(dk.index)), dk.index)\n",
                "    # # ax1.set_yticks(range(len(dk.columns)), dk.columns)\n",
                "    # #plt.figure(figsize=(5, 10))\n",
                "    # plt.colorbar(cm,cax=ax[0][1],ax=ax[0][0])\n",
                "    # plt.show()\n",
                "    #interactive_plot = interactive (plotting, sub_window_size = (10,100000,100) , stride_size = (10,100000,100) )\n",
                "\n",
                "\n",
                "########## Organize dataframe\n",
                "max_stats = np.delete(max_stats, (0), axis=0)\n",
                "D = np.delete(D, (0), axis=0)\n",
                "D = np.concatenate((D, max_stats), axis=1)\n",
                "#print(D)\n",
                "cols = [\"Node\", \"Deposited_Q\" ,\"Bias 1\", \"Bias 2\", \"Number of Transients\", \"Magnitude\", \"Pulse Width\", \\\n",
                "    \"Mean\", \"Variance\", \"Standard Deviation\", \"Skew\", \"Kurtosis\", \"Tau\"]\n",
                "df = pd.DataFrame(D,columns=cols)\n",
                "#print(df.head)\n",
                "    # df = df.set_index(df['time'])\n",
                "    # df[['vout']].plot ()\n",
                "    # plt.ylabel('Voltage (V)')\n",
                "    # plt.xlabel('Time (s)')\n",
                "    # plt.title(filename)\n",
                "    # plt.show()"
            ]
        },
        {
            "cell_type": "markdown",
            "metadata": {},
            "source": [
                "## Machine Learning Data Preperation\n",
                "In the following section, the data is manipulated and prepared for the machine learning algorithm, kNN"
            ]
        },
        {
            "cell_type": "code",
            "execution_count": 14,
            "metadata": {},
            "outputs": [
                {
                    "name": "stdout",
                    "output_type": "stream",
                    "text": [
                        "Node                  1.000000\n",
                        "Magnitude             0.392168\n",
                        "Pulse Width           0.313858\n",
                        "Mean                  0.390955\n",
                        "Variance              0.441863\n",
                        "Standard Deviation    0.443252\n",
                        "Skew                  0.046394\n",
                        "Kurtosis             -0.133690\n",
                        "Tau                   0.103267\n",
                        "Name: Node, dtype: float64\n"
                    ]
                }
            ],
            "source": [
                "## Clean dataframe for this specific project\n",
                "#df2 = df_cleanup(df)\n",
                "\n",
                "df.sort_values(by=['Node'], inplace=True)\n",
                "\n",
                "# # Label Encoder is used to encode Nodes (strings) into values between 0 and \n",
                "# # n_classes - 1\n",
                "le = preprocessing.LabelEncoder()\n",
                "le.fit(df[\"Node\"])\n",
                "df[\"Node\"] = le.transform(df[\"Node\"])\n",
                "\n",
                "#df2 = df.drop([\"Bias 1\", \"Bias 2\", \"Number of Transients\", \"Deposited_Q\",\\\n",
                " #       \"Mean\", \"Variance\", \"Standard Deviation\", \"Skew\", \"Kurtosis\"], axis=1)\n",
                "df2 = df.drop([\"Bias 1\", \"Bias 2\", \"Number of Transients\", \"Deposited_Q\"], axis=1)\n",
                "\n",
                "df2 = df2.astype(float, errors='raise')\n",
                "\n",
                "## Coorelation Matrix - What values have good coorelation with Node value\n",
                "## Enter dataframe you are using, and the nod you want to coorelate\n",
                "print_corr(df2, \"Node\")\n",
                "\n",
                "df2 = df2.drop(['Skew', 'Kurtosis'], axis=1)"
            ]
        },
        {
            "cell_type": "markdown",
            "metadata": {},
            "source": [
                "## Create Training and Testing Set using sklearn\n",
                "test_size represents the proportion of the data set to test on\n",
                "random_state randomizes the set, number is arbitrary"
            ]
        },
        {
            "cell_type": "code",
            "execution_count": 15,
            "metadata": {},
            "outputs": [],
            "source": [
                "## Enter Dataframe used for ML, the Variable you are classifying\n",
                "## the size of the testing portion, and a random_state (arbitrary)\n",
                "X, y, X_train, X_test, y_train, y_test = training_split(df2, \"Node\", test_size=0.25, random_state=1234)"
            ]
        },
        {
            "cell_type": "markdown",
            "metadata": {},
            "source": [
                "## Initialize and train initial kNN Model\n",
                "Note accuracy is 0.5 because it is essentially guessing"
            ]
        },
        {
            "cell_type": "code",
            "execution_count": 16,
            "metadata": {},
            "outputs": [
                {
                    "name": "stdout",
                    "output_type": "stream",
                    "text": [
                        "Initial kNN Accuracy: 0.5441176470588235\n"
                    ]
                },
                {
                    "data": {
                        "text/plain": [
                            "KNeighborsClassifier()"
                        ]
                    },
                    "execution_count": 16,
                    "metadata": {},
                    "output_type": "execute_result"
                }
            ],
            "source": [
                "## initialize the number of neighbors to use, and input the values \n",
                "## produced by the training_split function\n",
                "n_neighbors = 5\n",
                "kNN_initialization(n_neighbors, X_train, y_train, X_test, y_test)"
            ]
        },
        {
            "cell_type": "markdown",
            "metadata": {},
            "source": [
                "## Optimization of kNN Model using GridSearchCV\n",
                "Exhaustive search over specified parameter values for an estimator"
            ]
        },
        {
            "cell_type": "code",
            "execution_count": 17,
            "metadata": {},
            "outputs": [
                {
                    "name": "stdout",
                    "output_type": "stream",
                    "text": [
                        "{'n_neighbors': 4, 'weights': 'distance'}\n",
                        "Optimized Accuracy: 0.5294117647058824\n"
                    ]
                },
                {
                    "data": {
                        "text/plain": [
                            "GridSearchCV(estimator=KNeighborsClassifier(),\n",
                            "             param_grid={'n_neighbors': range(1, 25),\n",
                            "                         'weights': ['uniform', 'distance']})"
                        ]
                    },
                    "execution_count": 17,
                    "metadata": {},
                    "output_type": "execute_result"
                }
            ],
            "source": [
                "## largest_n_neighbors: largest value for the gridsearch to search among\n",
                "## ex: 25 -> gridsearch tries all n_neighbors from 1 to 25 and chooses value that gives highest accuracy\n",
                "largest_n_neighbors = 25\n",
                "gridSearchCV_Optimization(largest_n_neighbors, X_train, y_train, X_test, y_test)"
            ]
        },
        {
            "cell_type": "markdown",
            "metadata": {},
            "source": [
                "## Updating Dataframe so that no \"0\" Values are included"
            ]
        },
        {
            "cell_type": "code",
            "execution_count": 18,
            "metadata": {},
            "outputs": [
                {
                    "name": "stdout",
                    "output_type": "stream",
                    "text": [
                        "Node                  1.000000\n",
                        "Magnitude             0.499412\n",
                        "Pulse Width           0.397345\n",
                        "Mean                  0.496839\n",
                        "Variance              0.529392\n",
                        "Standard Deviation    0.551031\n",
                        "Tau                  -0.039117\n",
                        "Name: Node, dtype: float64\n",
                        "Initial kNN Accuracy: 0.56\n",
                        "{'n_neighbors': 10, 'weights': 'distance'}\n",
                        "Optimized Accuracy: 0.62\n"
                    ]
                }
            ],
            "source": [
                "df3 = df2[ df2.Magnitude > 1e-9 ]\n",
                "\n",
                "print_corr(df3, \"Node\")\n",
                "\n",
                "X, y, X_train, X_test, y_train, y_test = training_split(df3, \"Node\", test_size=0.25, random_state=1234)\n",
                "\n",
                "n_neighbors = 10\n",
                "knn = kNN_initialization(n_neighbors, X_train, y_train, X_test, y_test)\n",
                "\n",
                "largest_n_neighbors = 25\n",
                "gridsearch_knn = gridSearchCV_Optimization(largest_n_neighbors, X_train, y_train, X_test, y_test)\n"
            ]
        },
        {
            "cell_type": "markdown",
            "metadata": {},
            "source": [
                "## Making dataframe for each deposited charge and performing ml on those\n"
            ]
        },
        {
            "cell_type": "code",
            "execution_count": 19,
            "metadata": {},
            "outputs": [],
            "source": [
                "# df_1m = df[ df.Deposited_Q == '1' ]\n",
                "# df_1m = df_cleanup(df_1m)\n",
                "# df_1m = df_1m[ df_1m.Magnitude > 1e-9 ]\n",
                "\n",
                "# X_train, X_test, y_train, y_test = training_split(df_1m, \"Node\", test_size=0.25, random_state=1234)\n",
                "\n",
                "# n_neighbors = 5\n",
                "# kNN_initialization(n_neighbors, X_train, y_train, X_test, y_test)\n",
                "\n",
                "# largest_n_neighbors = 9\n",
                "# gridSearchCV_Optimization(largest_n_neighbors, X_train, y_train, X_test, y_test)"
            ]
        },
        {
            "cell_type": "markdown",
            "metadata": {},
            "source": [
                "# PCA (Principle Component Analysis) for visualization"
            ]
        },
        {
            "cell_type": "code",
            "execution_count": 20,
            "metadata": {},
            "outputs": [
                {
                    "data": {
                        "text/plain": [
                            "GridSearchCV(estimator=KNeighborsClassifier(),\n",
                            "             param_grid={'n_neighbors': range(1, 25),\n",
                            "                         'weights': ['uniform', 'distance']})"
                        ]
                    },
                    "execution_count": 20,
                    "metadata": {},
                    "output_type": "execute_result"
                }
            ],
            "source": [
                "# pca = PCA(n_components=2)\n",
                "# X_train_pca = pca.fit_transform(X_train)\n",
                "\n",
                "# knn_pca = KNeighborsClassifier(n_neighbors)\n",
                "\n",
                "# ## Fit kNN\n",
                "# knn_pca.fit(X_train_pca, y_train)\n",
                "\n",
                "# parameters = {\"n_neighbors\": range(1, largest_n_neighbors),\n",
                "#     \"weights\": [\"uniform\", \"distance\"]}\n",
                "# gridsearch_pca = GridSearchCV(KNeighborsClassifier(), parameters)\n",
                "# gridsearch_pca.fit(X_train_pca, y_train)\n",
                "\n",
                "# from mlxtend.plotting import plot_decision_regions\n",
                "# fig, axes = plt.subplots(1, 2, figsize=(11, 4))\n",
                "\n",
                "# fig1 = plot_decision_regions(X=X_train_pca, y=y_train.astype(np.int32), clf=knn_pca, ax=axes[0], legend=1)\n",
                "# fig2 = plot_decision_regions(X=X_train_pca, y=y_train.astype(np.int32), clf=gridsearch_pca, ax=axes[1], legend=1)"
            ]
        },
        {
            "cell_type": "markdown",
            "metadata": {},
            "source": [
                "# Plotting Decision Regions"
            ]
        },
        {
            "cell_type": "code",
            "execution_count": 23,
            "metadata": {},
            "outputs": [
                {
                    "name": "stderr",
                    "output_type": "stream",
                    "text": [
                        "C:\\Users\\berka\\miniconda3\\envs\\ml1\\lib\\site-packages\\mlxtend\\plotting\\decision_regions.py:280: UserWarning: You passed a edgecolor/edgecolors ('black') for an unfilled marker ('x').  Matplotlib is ignoring the edgecolor in favor of the facecolor.  This behavior may change in the future.\n",
                        "  **scatter_kwargs)\n",
                        "C:\\Users\\berka\\miniconda3\\envs\\ml1\\lib\\site-packages\\mlxtend\\plotting\\decision_regions.py:280: UserWarning: You passed a edgecolor/edgecolors ('black') for an unfilled marker ('x').  Matplotlib is ignoring the edgecolor in favor of the facecolor.  This behavior may change in the future.\n",
                        "  **scatter_kwargs)\n"
                    ]
                },
                {
                    "data": {
                        "image/png": "[encoded data removed]",
                        "text/plain": [
                            "<Figure size 792x288 with 2 Axes>"
                        ]
                    },
                    "metadata": {
                        "needs_background": "light"
                    },
                    "output_type": "display_data"
                }
            ],
            "source": [
                "from mlxtend.plotting import plot_decision_regions\n",
                "fig, axes = plt.subplots(1, 2, figsize=(11, 4))\n",
                "\n",
                "fig1 = plot_decision_regions(X=X, y=y.astype(np.int32), clf=knn_pca, ax=axes[0], legend=1)\n",
                "fig2 = plot_decision_regions(X=X, y=y.astype(np.int32), clf=gridsearch_pca, ax=axes[1], legend=1)\n",
                "\n",
                "# handles, labels = fig1.get_legend_handles_labels()\n",
                "# fig1.legend(handles, le.inverse_transform(np.unique(y)), framealpha=0.3, scatterpoints=1)"
            ]
        }
    ],
    "metadata": {
        "interpreter": {
            "hash": "5d5dcfea0e0a64840664dd24bf389803a9ea30b0e8232d898d6cabc4354fde28"
        },
        "kernelspec": {
            "display_name": "Python 3.7.10 64-bit (conda)",
            "name": "python3"
        },
        "language_info": {
            "codemirror_mode": {
                "name": "ipython",
                "version": 3
            },
            "file_extension": ".py",
            "mimetype": "text/x-python",
            "name": "python",
            "nbconvert_exporter": "python",
            "pygments_lexer": "ipython3",
            "version": "3.7.10"
        },
        "orig_nbformat": 4
    },
    "nbformat": 4,
    "nbformat_minor": 2
}
